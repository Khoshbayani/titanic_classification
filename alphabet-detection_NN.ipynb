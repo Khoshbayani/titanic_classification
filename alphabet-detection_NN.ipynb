{
 "cells": [
  {
   "cell_type": "code",
   "execution_count": 1,
   "id": "f258e2d5",
   "metadata": {
    "ExecuteTime": {
     "end_time": "2023-11-11T19:49:46.816218300Z",
     "start_time": "2023-11-11T19:49:42.347067Z"
    },
    "collapsed": false,
    "execution": {
     "iopub.execute_input": "2023-11-15T17:20:21.695484Z",
     "iopub.status.busy": "2023-11-15T17:20:21.695125Z",
     "iopub.status.idle": "2023-11-15T17:20:34.013701Z",
     "shell.execute_reply": "2023-11-15T17:20:34.012912Z"
    },
    "jupyter": {
     "outputs_hidden": false
    },
    "papermill": {
     "duration": 12.330948,
     "end_time": "2023-11-15T17:20:34.016063",
     "exception": false,
     "start_time": "2023-11-15T17:20:21.685115",
     "status": "completed"
    },
    "tags": []
   },
   "outputs": [
    {
     "name": "stderr",
     "output_type": "stream",
     "text": [
      "/opt/conda/lib/python3.10/site-packages/scipy/__init__.py:146: UserWarning: A NumPy version >=1.16.5 and <1.23.0 is required for this version of SciPy (detected version 1.24.3\n",
      "  warnings.warn(f\"A NumPy version >={np_minversion} and <{np_maxversion}\"\n"
     ]
    }
   ],
   "source": [
    "import pandas as pd\n",
    "import numpy as np\n",
    "import tensorflow as tf\n",
    "from sklearn.preprocessing import OneHotEncoder"
   ]
  },
  {
   "cell_type": "code",
   "execution_count": 2,
   "id": "5a821379",
   "metadata": {
    "ExecuteTime": {
     "end_time": "2023-11-11T19:50:05.755202800Z",
     "start_time": "2023-11-11T19:49:46.819019700Z"
    },
    "collapsed": false,
    "execution": {
     "iopub.execute_input": "2023-11-15T17:20:34.034846Z",
     "iopub.status.busy": "2023-11-15T17:20:34.034294Z",
     "iopub.status.idle": "2023-11-15T17:21:11.884900Z",
     "shell.execute_reply": "2023-11-15T17:21:11.884080Z"
    },
    "jupyter": {
     "outputs_hidden": false
    },
    "papermill": {
     "duration": 37.862303,
     "end_time": "2023-11-15T17:21:11.887279",
     "exception": false,
     "start_time": "2023-11-15T17:20:34.024976",
     "status": "completed"
    },
    "tags": []
   },
   "outputs": [],
   "source": [
    "data = pd.read_csv(\"/kaggle/input/tmnist-alphabet-94-characters/94_character_TMNIST.csv\")"
   ]
  },
  {
   "cell_type": "code",
   "execution_count": 3,
   "id": "489aa5fe",
   "metadata": {
    "ExecuteTime": {
     "end_time": "2023-11-11T19:50:05.797755800Z",
     "start_time": "2023-11-11T19:50:05.765730200Z"
    },
    "collapsed": false,
    "execution": {
     "iopub.execute_input": "2023-11-15T17:21:11.905734Z",
     "iopub.status.busy": "2023-11-15T17:21:11.905432Z",
     "iopub.status.idle": "2023-11-15T17:21:11.944479Z",
     "shell.execute_reply": "2023-11-15T17:21:11.943649Z"
    },
    "jupyter": {
     "outputs_hidden": false
    },
    "papermill": {
     "duration": 0.050373,
     "end_time": "2023-11-15T17:21:11.946479",
     "exception": false,
     "start_time": "2023-11-15T17:21:11.896106",
     "status": "completed"
    },
    "tags": []
   },
   "outputs": [
    {
     "data": {
      "text/html": [
       "<div>\n",
       "<style scoped>\n",
       "    .dataframe tbody tr th:only-of-type {\n",
       "        vertical-align: middle;\n",
       "    }\n",
       "\n",
       "    .dataframe tbody tr th {\n",
       "        vertical-align: top;\n",
       "    }\n",
       "\n",
       "    .dataframe thead th {\n",
       "        text-align: right;\n",
       "    }\n",
       "</style>\n",
       "<table border=\"1\" class=\"dataframe\">\n",
       "  <thead>\n",
       "    <tr style=\"text-align: right;\">\n",
       "      <th></th>\n",
       "      <th>names</th>\n",
       "      <th>labels</th>\n",
       "      <th>1</th>\n",
       "      <th>2</th>\n",
       "      <th>3</th>\n",
       "      <th>4</th>\n",
       "      <th>5</th>\n",
       "      <th>6</th>\n",
       "      <th>7</th>\n",
       "      <th>8</th>\n",
       "      <th>...</th>\n",
       "      <th>775</th>\n",
       "      <th>776</th>\n",
       "      <th>777</th>\n",
       "      <th>778</th>\n",
       "      <th>779</th>\n",
       "      <th>780</th>\n",
       "      <th>781</th>\n",
       "      <th>782</th>\n",
       "      <th>783</th>\n",
       "      <th>784</th>\n",
       "    </tr>\n",
       "  </thead>\n",
       "  <tbody>\n",
       "    <tr>\n",
       "      <th>0</th>\n",
       "      <td>Salsa-Regular</td>\n",
       "      <td>6</td>\n",
       "      <td>0.0</td>\n",
       "      <td>0.0</td>\n",
       "      <td>0.0</td>\n",
       "      <td>0.0</td>\n",
       "      <td>0.0</td>\n",
       "      <td>0.0</td>\n",
       "      <td>0.0</td>\n",
       "      <td>0.0</td>\n",
       "      <td>...</td>\n",
       "      <td>0.0</td>\n",
       "      <td>0.0</td>\n",
       "      <td>0.0</td>\n",
       "      <td>0.0</td>\n",
       "      <td>0.0</td>\n",
       "      <td>0.0</td>\n",
       "      <td>0.0</td>\n",
       "      <td>0.0</td>\n",
       "      <td>0.0</td>\n",
       "      <td>0.0</td>\n",
       "    </tr>\n",
       "    <tr>\n",
       "      <th>1</th>\n",
       "      <td>MouseMemoirs-Regular</td>\n",
       "      <td>D</td>\n",
       "      <td>0.0</td>\n",
       "      <td>0.0</td>\n",
       "      <td>0.0</td>\n",
       "      <td>0.0</td>\n",
       "      <td>0.0</td>\n",
       "      <td>0.0</td>\n",
       "      <td>0.0</td>\n",
       "      <td>0.0</td>\n",
       "      <td>...</td>\n",
       "      <td>0.0</td>\n",
       "      <td>0.0</td>\n",
       "      <td>0.0</td>\n",
       "      <td>0.0</td>\n",
       "      <td>0.0</td>\n",
       "      <td>0.0</td>\n",
       "      <td>0.0</td>\n",
       "      <td>0.0</td>\n",
       "      <td>0.0</td>\n",
       "      <td>0.0</td>\n",
       "    </tr>\n",
       "    <tr>\n",
       "      <th>2</th>\n",
       "      <td>Creepster-Regular</td>\n",
       "      <td>f</td>\n",
       "      <td>0.0</td>\n",
       "      <td>0.0</td>\n",
       "      <td>0.0</td>\n",
       "      <td>0.0</td>\n",
       "      <td>0.0</td>\n",
       "      <td>0.0</td>\n",
       "      <td>0.0</td>\n",
       "      <td>0.0</td>\n",
       "      <td>...</td>\n",
       "      <td>0.0</td>\n",
       "      <td>0.0</td>\n",
       "      <td>0.0</td>\n",
       "      <td>0.0</td>\n",
       "      <td>0.0</td>\n",
       "      <td>0.0</td>\n",
       "      <td>0.0</td>\n",
       "      <td>0.0</td>\n",
       "      <td>0.0</td>\n",
       "      <td>0.0</td>\n",
       "    </tr>\n",
       "    <tr>\n",
       "      <th>3</th>\n",
       "      <td>SeoulNamsan-Light</td>\n",
       "      <td>/</td>\n",
       "      <td>0.0</td>\n",
       "      <td>0.0</td>\n",
       "      <td>0.0</td>\n",
       "      <td>0.0</td>\n",
       "      <td>0.0</td>\n",
       "      <td>0.0</td>\n",
       "      <td>0.0</td>\n",
       "      <td>0.0</td>\n",
       "      <td>...</td>\n",
       "      <td>0.0</td>\n",
       "      <td>0.0</td>\n",
       "      <td>0.0</td>\n",
       "      <td>0.0</td>\n",
       "      <td>0.0</td>\n",
       "      <td>0.0</td>\n",
       "      <td>0.0</td>\n",
       "      <td>0.0</td>\n",
       "      <td>0.0</td>\n",
       "      <td>0.0</td>\n",
       "    </tr>\n",
       "    <tr>\n",
       "      <th>4</th>\n",
       "      <td>HachiMaruPop-Regular</td>\n",
       "      <td>F</td>\n",
       "      <td>0.0</td>\n",
       "      <td>0.0</td>\n",
       "      <td>0.0</td>\n",
       "      <td>0.0</td>\n",
       "      <td>0.0</td>\n",
       "      <td>0.0</td>\n",
       "      <td>0.0</td>\n",
       "      <td>0.0</td>\n",
       "      <td>...</td>\n",
       "      <td>0.0</td>\n",
       "      <td>0.0</td>\n",
       "      <td>0.0</td>\n",
       "      <td>0.0</td>\n",
       "      <td>0.0</td>\n",
       "      <td>0.0</td>\n",
       "      <td>0.0</td>\n",
       "      <td>0.0</td>\n",
       "      <td>0.0</td>\n",
       "      <td>0.0</td>\n",
       "    </tr>\n",
       "  </tbody>\n",
       "</table>\n",
       "<p>5 rows × 786 columns</p>\n",
       "</div>"
      ],
      "text/plain": [
       "                  names labels    1    2    3    4    5    6    7    8  ...  \\\n",
       "0         Salsa-Regular      6  0.0  0.0  0.0  0.0  0.0  0.0  0.0  0.0  ...   \n",
       "1  MouseMemoirs-Regular      D  0.0  0.0  0.0  0.0  0.0  0.0  0.0  0.0  ...   \n",
       "2     Creepster-Regular      f  0.0  0.0  0.0  0.0  0.0  0.0  0.0  0.0  ...   \n",
       "3     SeoulNamsan-Light      /  0.0  0.0  0.0  0.0  0.0  0.0  0.0  0.0  ...   \n",
       "4  HachiMaruPop-Regular      F  0.0  0.0  0.0  0.0  0.0  0.0  0.0  0.0  ...   \n",
       "\n",
       "   775  776  777  778  779  780  781  782  783  784  \n",
       "0  0.0  0.0  0.0  0.0  0.0  0.0  0.0  0.0  0.0  0.0  \n",
       "1  0.0  0.0  0.0  0.0  0.0  0.0  0.0  0.0  0.0  0.0  \n",
       "2  0.0  0.0  0.0  0.0  0.0  0.0  0.0  0.0  0.0  0.0  \n",
       "3  0.0  0.0  0.0  0.0  0.0  0.0  0.0  0.0  0.0  0.0  \n",
       "4  0.0  0.0  0.0  0.0  0.0  0.0  0.0  0.0  0.0  0.0  \n",
       "\n",
       "[5 rows x 786 columns]"
      ]
     },
     "execution_count": 3,
     "metadata": {},
     "output_type": "execute_result"
    }
   ],
   "source": [
    "data.head()"
   ]
  },
  {
   "cell_type": "code",
   "execution_count": 4,
   "id": "e24db81f",
   "metadata": {
    "ExecuteTime": {
     "end_time": "2023-11-11T19:50:05.813242300Z",
     "start_time": "2023-11-11T19:50:05.792271800Z"
    },
    "collapsed": false,
    "execution": {
     "iopub.execute_input": "2023-11-15T17:21:11.965761Z",
     "iopub.status.busy": "2023-11-15T17:21:11.965013Z",
     "iopub.status.idle": "2023-11-15T17:21:11.970827Z",
     "shell.execute_reply": "2023-11-15T17:21:11.970057Z"
    },
    "jupyter": {
     "outputs_hidden": false
    },
    "papermill": {
     "duration": 0.017128,
     "end_time": "2023-11-15T17:21:11.972672",
     "exception": false,
     "start_time": "2023-11-15T17:21:11.955544",
     "status": "completed"
    },
    "tags": []
   },
   "outputs": [
    {
     "data": {
      "text/plain": [
       "(274093, 786)"
      ]
     },
     "execution_count": 4,
     "metadata": {},
     "output_type": "execute_result"
    }
   ],
   "source": [
    "data.shape"
   ]
  },
  {
   "cell_type": "code",
   "execution_count": 5,
   "id": "8278af80",
   "metadata": {
    "ExecuteTime": {
     "end_time": "2023-11-11T19:50:05.814243100Z",
     "start_time": "2023-11-11T19:50:05.800740300Z"
    },
    "collapsed": false,
    "execution": {
     "iopub.execute_input": "2023-11-15T17:21:11.991439Z",
     "iopub.status.busy": "2023-11-15T17:21:11.991162Z",
     "iopub.status.idle": "2023-11-15T17:21:11.997948Z",
     "shell.execute_reply": "2023-11-15T17:21:11.997089Z"
    },
    "jupyter": {
     "outputs_hidden": false
    },
    "papermill": {
     "duration": 0.018385,
     "end_time": "2023-11-15T17:21:11.999780",
     "exception": false,
     "start_time": "2023-11-15T17:21:11.981395",
     "status": "completed"
    },
    "tags": []
   },
   "outputs": [
    {
     "data": {
      "text/plain": [
       "Index(['names', 'labels', '1', '2', '3', '4', '5', '6', '7', '8',\n",
       "       ...\n",
       "       '775', '776', '777', '778', '779', '780', '781', '782', '783', '784'],\n",
       "      dtype='object', length=786)"
      ]
     },
     "execution_count": 5,
     "metadata": {},
     "output_type": "execute_result"
    }
   ],
   "source": [
    "data.columns"
   ]
  },
  {
   "cell_type": "code",
   "execution_count": 6,
   "id": "926d3d72",
   "metadata": {
    "ExecuteTime": {
     "end_time": "2023-11-11T19:50:06.203640200Z",
     "start_time": "2023-11-11T19:50:05.807248800Z"
    },
    "collapsed": false,
    "execution": {
     "iopub.execute_input": "2023-11-15T17:21:12.018503Z",
     "iopub.status.busy": "2023-11-15T17:21:12.018232Z",
     "iopub.status.idle": "2023-11-15T17:21:12.503244Z",
     "shell.execute_reply": "2023-11-15T17:21:12.502466Z"
    },
    "jupyter": {
     "outputs_hidden": false
    },
    "papermill": {
     "duration": 0.496863,
     "end_time": "2023-11-15T17:21:12.505539",
     "exception": false,
     "start_time": "2023-11-15T17:21:12.008676",
     "status": "completed"
    },
    "tags": []
   },
   "outputs": [],
   "source": [
    "X = data.iloc[:,2:]\n",
    "y = data.loc[:,\"labels\"]"
   ]
  },
  {
   "cell_type": "code",
   "execution_count": 7,
   "id": "82fd05ce",
   "metadata": {
    "ExecuteTime": {
     "end_time": "2023-11-11T19:50:06.246957700Z",
     "start_time": "2023-11-11T19:50:06.205636100Z"
    },
    "collapsed": false,
    "execution": {
     "iopub.execute_input": "2023-11-15T17:21:12.525282Z",
     "iopub.status.busy": "2023-11-15T17:21:12.524604Z",
     "iopub.status.idle": "2023-11-15T17:21:12.553495Z",
     "shell.execute_reply": "2023-11-15T17:21:12.552579Z"
    },
    "jupyter": {
     "outputs_hidden": false
    },
    "papermill": {
     "duration": 0.040352,
     "end_time": "2023-11-15T17:21:12.555345",
     "exception": false,
     "start_time": "2023-11-15T17:21:12.514993",
     "status": "completed"
    },
    "tags": []
   },
   "outputs": [
    {
     "data": {
      "text/html": [
       "<div>\n",
       "<style scoped>\n",
       "    .dataframe tbody tr th:only-of-type {\n",
       "        vertical-align: middle;\n",
       "    }\n",
       "\n",
       "    .dataframe tbody tr th {\n",
       "        vertical-align: top;\n",
       "    }\n",
       "\n",
       "    .dataframe thead th {\n",
       "        text-align: right;\n",
       "    }\n",
       "</style>\n",
       "<table border=\"1\" class=\"dataframe\">\n",
       "  <thead>\n",
       "    <tr style=\"text-align: right;\">\n",
       "      <th></th>\n",
       "      <th>1</th>\n",
       "      <th>2</th>\n",
       "      <th>3</th>\n",
       "      <th>4</th>\n",
       "      <th>5</th>\n",
       "      <th>6</th>\n",
       "      <th>7</th>\n",
       "      <th>8</th>\n",
       "      <th>9</th>\n",
       "      <th>10</th>\n",
       "      <th>...</th>\n",
       "      <th>775</th>\n",
       "      <th>776</th>\n",
       "      <th>777</th>\n",
       "      <th>778</th>\n",
       "      <th>779</th>\n",
       "      <th>780</th>\n",
       "      <th>781</th>\n",
       "      <th>782</th>\n",
       "      <th>783</th>\n",
       "      <th>784</th>\n",
       "    </tr>\n",
       "  </thead>\n",
       "  <tbody>\n",
       "    <tr>\n",
       "      <th>0</th>\n",
       "      <td>0.0</td>\n",
       "      <td>0.0</td>\n",
       "      <td>0.0</td>\n",
       "      <td>0.0</td>\n",
       "      <td>0.0</td>\n",
       "      <td>0.0</td>\n",
       "      <td>0.0</td>\n",
       "      <td>0.0</td>\n",
       "      <td>0.0</td>\n",
       "      <td>0.0</td>\n",
       "      <td>...</td>\n",
       "      <td>0.0</td>\n",
       "      <td>0.0</td>\n",
       "      <td>0.0</td>\n",
       "      <td>0.0</td>\n",
       "      <td>0.0</td>\n",
       "      <td>0.0</td>\n",
       "      <td>0.0</td>\n",
       "      <td>0.0</td>\n",
       "      <td>0.0</td>\n",
       "      <td>0.0</td>\n",
       "    </tr>\n",
       "    <tr>\n",
       "      <th>1</th>\n",
       "      <td>0.0</td>\n",
       "      <td>0.0</td>\n",
       "      <td>0.0</td>\n",
       "      <td>0.0</td>\n",
       "      <td>0.0</td>\n",
       "      <td>0.0</td>\n",
       "      <td>0.0</td>\n",
       "      <td>0.0</td>\n",
       "      <td>0.0</td>\n",
       "      <td>0.0</td>\n",
       "      <td>...</td>\n",
       "      <td>0.0</td>\n",
       "      <td>0.0</td>\n",
       "      <td>0.0</td>\n",
       "      <td>0.0</td>\n",
       "      <td>0.0</td>\n",
       "      <td>0.0</td>\n",
       "      <td>0.0</td>\n",
       "      <td>0.0</td>\n",
       "      <td>0.0</td>\n",
       "      <td>0.0</td>\n",
       "    </tr>\n",
       "    <tr>\n",
       "      <th>2</th>\n",
       "      <td>0.0</td>\n",
       "      <td>0.0</td>\n",
       "      <td>0.0</td>\n",
       "      <td>0.0</td>\n",
       "      <td>0.0</td>\n",
       "      <td>0.0</td>\n",
       "      <td>0.0</td>\n",
       "      <td>0.0</td>\n",
       "      <td>0.0</td>\n",
       "      <td>0.0</td>\n",
       "      <td>...</td>\n",
       "      <td>0.0</td>\n",
       "      <td>0.0</td>\n",
       "      <td>0.0</td>\n",
       "      <td>0.0</td>\n",
       "      <td>0.0</td>\n",
       "      <td>0.0</td>\n",
       "      <td>0.0</td>\n",
       "      <td>0.0</td>\n",
       "      <td>0.0</td>\n",
       "      <td>0.0</td>\n",
       "    </tr>\n",
       "    <tr>\n",
       "      <th>3</th>\n",
       "      <td>0.0</td>\n",
       "      <td>0.0</td>\n",
       "      <td>0.0</td>\n",
       "      <td>0.0</td>\n",
       "      <td>0.0</td>\n",
       "      <td>0.0</td>\n",
       "      <td>0.0</td>\n",
       "      <td>0.0</td>\n",
       "      <td>0.0</td>\n",
       "      <td>0.0</td>\n",
       "      <td>...</td>\n",
       "      <td>0.0</td>\n",
       "      <td>0.0</td>\n",
       "      <td>0.0</td>\n",
       "      <td>0.0</td>\n",
       "      <td>0.0</td>\n",
       "      <td>0.0</td>\n",
       "      <td>0.0</td>\n",
       "      <td>0.0</td>\n",
       "      <td>0.0</td>\n",
       "      <td>0.0</td>\n",
       "    </tr>\n",
       "    <tr>\n",
       "      <th>4</th>\n",
       "      <td>0.0</td>\n",
       "      <td>0.0</td>\n",
       "      <td>0.0</td>\n",
       "      <td>0.0</td>\n",
       "      <td>0.0</td>\n",
       "      <td>0.0</td>\n",
       "      <td>0.0</td>\n",
       "      <td>0.0</td>\n",
       "      <td>0.0</td>\n",
       "      <td>0.0</td>\n",
       "      <td>...</td>\n",
       "      <td>0.0</td>\n",
       "      <td>0.0</td>\n",
       "      <td>0.0</td>\n",
       "      <td>0.0</td>\n",
       "      <td>0.0</td>\n",
       "      <td>0.0</td>\n",
       "      <td>0.0</td>\n",
       "      <td>0.0</td>\n",
       "      <td>0.0</td>\n",
       "      <td>0.0</td>\n",
       "    </tr>\n",
       "  </tbody>\n",
       "</table>\n",
       "<p>5 rows × 784 columns</p>\n",
       "</div>"
      ],
      "text/plain": [
       "     1    2    3    4    5    6    7    8    9   10  ...  775  776  777  778  \\\n",
       "0  0.0  0.0  0.0  0.0  0.0  0.0  0.0  0.0  0.0  0.0  ...  0.0  0.0  0.0  0.0   \n",
       "1  0.0  0.0  0.0  0.0  0.0  0.0  0.0  0.0  0.0  0.0  ...  0.0  0.0  0.0  0.0   \n",
       "2  0.0  0.0  0.0  0.0  0.0  0.0  0.0  0.0  0.0  0.0  ...  0.0  0.0  0.0  0.0   \n",
       "3  0.0  0.0  0.0  0.0  0.0  0.0  0.0  0.0  0.0  0.0  ...  0.0  0.0  0.0  0.0   \n",
       "4  0.0  0.0  0.0  0.0  0.0  0.0  0.0  0.0  0.0  0.0  ...  0.0  0.0  0.0  0.0   \n",
       "\n",
       "   779  780  781  782  783  784  \n",
       "0  0.0  0.0  0.0  0.0  0.0  0.0  \n",
       "1  0.0  0.0  0.0  0.0  0.0  0.0  \n",
       "2  0.0  0.0  0.0  0.0  0.0  0.0  \n",
       "3  0.0  0.0  0.0  0.0  0.0  0.0  \n",
       "4  0.0  0.0  0.0  0.0  0.0  0.0  \n",
       "\n",
       "[5 rows x 784 columns]"
      ]
     },
     "execution_count": 7,
     "metadata": {},
     "output_type": "execute_result"
    }
   ],
   "source": [
    "X.head()"
   ]
  },
  {
   "cell_type": "code",
   "execution_count": 8,
   "id": "8ee61630",
   "metadata": {
    "ExecuteTime": {
     "end_time": "2023-11-11T19:50:06.247939100Z",
     "start_time": "2023-11-11T19:50:06.230873800Z"
    },
    "collapsed": false,
    "execution": {
     "iopub.execute_input": "2023-11-15T17:21:12.576346Z",
     "iopub.status.busy": "2023-11-15T17:21:12.576073Z",
     "iopub.status.idle": "2023-11-15T17:21:12.582207Z",
     "shell.execute_reply": "2023-11-15T17:21:12.581357Z"
    },
    "jupyter": {
     "outputs_hidden": false
    },
    "papermill": {
     "duration": 0.018717,
     "end_time": "2023-11-15T17:21:12.584202",
     "exception": false,
     "start_time": "2023-11-15T17:21:12.565485",
     "status": "completed"
    },
    "tags": []
   },
   "outputs": [
    {
     "data": {
      "text/plain": [
       "0    6\n",
       "1    D\n",
       "2    f\n",
       "3    /\n",
       "4    F\n",
       "Name: labels, dtype: object"
      ]
     },
     "execution_count": 8,
     "metadata": {},
     "output_type": "execute_result"
    }
   ],
   "source": [
    "y.head()"
   ]
  },
  {
   "cell_type": "code",
   "execution_count": 9,
   "id": "dd86b248",
   "metadata": {
    "ExecuteTime": {
     "end_time": "2023-11-11T19:50:06.316211800Z",
     "start_time": "2023-11-11T19:50:06.241559Z"
    },
    "collapsed": false,
    "execution": {
     "iopub.execute_input": "2023-11-15T17:21:12.603997Z",
     "iopub.status.busy": "2023-11-15T17:21:12.603702Z",
     "iopub.status.idle": "2023-11-15T17:21:12.609033Z",
     "shell.execute_reply": "2023-11-15T17:21:12.608062Z"
    },
    "jupyter": {
     "outputs_hidden": false
    },
    "papermill": {
     "duration": 0.017257,
     "end_time": "2023-11-15T17:21:12.610901",
     "exception": false,
     "start_time": "2023-11-15T17:21:12.593644",
     "status": "completed"
    },
    "tags": []
   },
   "outputs": [
    {
     "data": {
      "text/plain": [
       "(274093, 784)"
      ]
     },
     "execution_count": 9,
     "metadata": {},
     "output_type": "execute_result"
    }
   ],
   "source": [
    "X.shape"
   ]
  },
  {
   "cell_type": "code",
   "execution_count": 10,
   "id": "cb8dc699",
   "metadata": {
    "ExecuteTime": {
     "end_time": "2023-11-11T19:50:06.354214100Z",
     "start_time": "2023-11-11T19:50:06.248944400Z"
    },
    "collapsed": false,
    "execution": {
     "iopub.execute_input": "2023-11-15T17:21:12.630923Z",
     "iopub.status.busy": "2023-11-15T17:21:12.630637Z",
     "iopub.status.idle": "2023-11-15T17:21:12.636032Z",
     "shell.execute_reply": "2023-11-15T17:21:12.635162Z"
    },
    "jupyter": {
     "outputs_hidden": false
    },
    "papermill": {
     "duration": 0.017501,
     "end_time": "2023-11-15T17:21:12.637832",
     "exception": false,
     "start_time": "2023-11-15T17:21:12.620331",
     "status": "completed"
    },
    "tags": []
   },
   "outputs": [
    {
     "data": {
      "text/plain": [
       "28.0"
      ]
     },
     "execution_count": 10,
     "metadata": {},
     "output_type": "execute_result"
    }
   ],
   "source": [
    "X.shape[1] ** 0.5"
   ]
  },
  {
   "cell_type": "code",
   "execution_count": 11,
   "id": "be8085a5",
   "metadata": {
    "ExecuteTime": {
     "end_time": "2023-11-11T19:50:06.356245200Z",
     "start_time": "2023-11-11T19:50:06.257807300Z"
    },
    "collapsed": false,
    "execution": {
     "iopub.execute_input": "2023-11-15T17:21:12.658470Z",
     "iopub.status.busy": "2023-11-15T17:21:12.658190Z",
     "iopub.status.idle": "2023-11-15T17:21:12.662192Z",
     "shell.execute_reply": "2023-11-15T17:21:12.661458Z"
    },
    "jupyter": {
     "outputs_hidden": false
    },
    "papermill": {
     "duration": 0.016404,
     "end_time": "2023-11-15T17:21:12.664130",
     "exception": false,
     "start_time": "2023-11-15T17:21:12.647726",
     "status": "completed"
    },
    "tags": []
   },
   "outputs": [],
   "source": [
    "r_num = np.random.randint(0,len(data))"
   ]
  },
  {
   "cell_type": "code",
   "execution_count": 12,
   "id": "a7f21bad",
   "metadata": {
    "ExecuteTime": {
     "end_time": "2023-11-11T19:50:06.356245200Z",
     "start_time": "2023-11-11T19:50:06.263243800Z"
    },
    "collapsed": false,
    "execution": {
     "iopub.execute_input": "2023-11-15T17:21:12.684317Z",
     "iopub.status.busy": "2023-11-15T17:21:12.684052Z",
     "iopub.status.idle": "2023-11-15T17:21:12.688282Z",
     "shell.execute_reply": "2023-11-15T17:21:12.687446Z"
    },
    "jupyter": {
     "outputs_hidden": false
    },
    "papermill": {
     "duration": 0.016422,
     "end_time": "2023-11-15T17:21:12.690288",
     "exception": false,
     "start_time": "2023-11-15T17:21:12.673866",
     "status": "completed"
    },
    "tags": []
   },
   "outputs": [],
   "source": [
    "pic0 = np.asarray(X.iloc[r_num]).reshape(28,28)"
   ]
  },
  {
   "cell_type": "code",
   "execution_count": 13,
   "id": "d4fc3bf4",
   "metadata": {
    "ExecuteTime": {
     "end_time": "2023-11-11T19:50:06.819058300Z",
     "start_time": "2023-11-11T19:50:06.274692300Z"
    },
    "collapsed": false,
    "execution": {
     "iopub.execute_input": "2023-11-15T17:21:12.710640Z",
     "iopub.status.busy": "2023-11-15T17:21:12.710369Z",
     "iopub.status.idle": "2023-11-15T17:21:12.959192Z",
     "shell.execute_reply": "2023-11-15T17:21:12.958288Z"
    },
    "jupyter": {
     "outputs_hidden": false
    },
    "papermill": {
     "duration": 0.261663,
     "end_time": "2023-11-15T17:21:12.961288",
     "exception": false,
     "start_time": "2023-11-15T17:21:12.699625",
     "status": "completed"
    },
    "tags": []
   },
   "outputs": [
    {
     "name": "stdout",
     "output_type": "stream",
     "text": [
      "true label is : B\n"
     ]
    },
    {
     "data": {
      "image/png": "[encoded data removed]",
      "text/plain": [
       "<Figure size 640x480 with 1 Axes>"
      ]
     },
     "metadata": {},
     "output_type": "display_data"
    }
   ],
   "source": [
    "import matplotlib.pyplot as plt\n",
    "plt.imshow(pic0,cmap=\"gray\")\n",
    "print(\"true label is :\",y[r_num])\n",
    "plt.show()"
   ]
  },
  {
   "cell_type": "code",
   "execution_count": 14,
   "id": "8ecce846",
   "metadata": {
    "ExecuteTime": {
     "end_time": "2023-11-11T19:50:06.910984600Z",
     "start_time": "2023-11-11T19:50:06.821057400Z"
    },
    "collapsed": false,
    "execution": {
     "iopub.execute_input": "2023-11-15T17:21:12.982835Z",
     "iopub.status.busy": "2023-11-15T17:21:12.982494Z",
     "iopub.status.idle": "2023-11-15T17:21:13.007966Z",
     "shell.execute_reply": "2023-11-15T17:21:13.007142Z"
    },
    "jupyter": {
     "outputs_hidden": false
    },
    "papermill": {
     "duration": 0.038459,
     "end_time": "2023-11-15T17:21:13.010068",
     "exception": false,
     "start_time": "2023-11-15T17:21:12.971609",
     "status": "completed"
    },
    "tags": []
   },
   "outputs": [
    {
     "data": {
      "text/plain": [
       "94"
      ]
     },
     "execution_count": 14,
     "metadata": {},
     "output_type": "execute_result"
    }
   ],
   "source": [
    "#number of classes\n",
    "y.nunique()"
   ]
  },
  {
   "cell_type": "code",
   "execution_count": 15,
   "id": "f21c149d",
   "metadata": {
    "ExecuteTime": {
     "end_time": "2023-11-11T19:50:06.994494600Z",
     "start_time": "2023-11-11T19:50:06.847407600Z"
    },
    "collapsed": false,
    "execution": {
     "iopub.execute_input": "2023-11-15T17:21:13.031450Z",
     "iopub.status.busy": "2023-11-15T17:21:13.031176Z",
     "iopub.status.idle": "2023-11-15T17:21:13.144255Z",
     "shell.execute_reply": "2023-11-15T17:21:13.143471Z"
    },
    "jupyter": {
     "outputs_hidden": false
    },
    "papermill": {
     "duration": 0.126571,
     "end_time": "2023-11-15T17:21:13.146595",
     "exception": false,
     "start_time": "2023-11-15T17:21:13.020024",
     "status": "completed"
    },
    "tags": []
   },
   "outputs": [],
   "source": [
    "# one hot encoding on labels\n",
    "onh_enc= OneHotEncoder()\n",
    "y = onh_enc.fit_transform(y.values.reshape(-1,1)).toarray()"
   ]
  },
  {
   "cell_type": "code",
   "execution_count": 16,
   "id": "a6260668",
   "metadata": {
    "ExecuteTime": {
     "end_time": "2023-11-11T19:50:07.012498100Z",
     "start_time": "2023-11-11T19:50:06.947488100Z"
    },
    "collapsed": false,
    "execution": {
     "iopub.execute_input": "2023-11-15T17:21:13.168186Z",
     "iopub.status.busy": "2023-11-15T17:21:13.167600Z",
     "iopub.status.idle": "2023-11-15T17:21:13.173954Z",
     "shell.execute_reply": "2023-11-15T17:21:13.173134Z"
    },
    "jupyter": {
     "outputs_hidden": false
    },
    "papermill": {
     "duration": 0.018966,
     "end_time": "2023-11-15T17:21:13.175906",
     "exception": false,
     "start_time": "2023-11-15T17:21:13.156940",
     "status": "completed"
    },
    "tags": []
   },
   "outputs": [
    {
     "data": {
      "text/plain": [
       "array([[0., 0., 0., ..., 0., 0., 0.],\n",
       "       [0., 0., 0., ..., 0., 0., 0.],\n",
       "       [0., 0., 0., ..., 0., 0., 0.],\n",
       "       ...,\n",
       "       [0., 0., 0., ..., 0., 0., 0.],\n",
       "       [0., 0., 0., ..., 0., 0., 1.],\n",
       "       [0., 0., 0., ..., 0., 0., 0.]])"
      ]
     },
     "execution_count": 16,
     "metadata": {},
     "output_type": "execute_result"
    }
   ],
   "source": [
    "y"
   ]
  },
  {
   "cell_type": "code",
   "execution_count": 17,
   "id": "705652b3",
   "metadata": {
    "ExecuteTime": {
     "end_time": "2023-11-11T19:50:08.945136300Z",
     "start_time": "2023-11-11T19:50:06.956928500Z"
    },
    "collapsed": false,
    "execution": {
     "iopub.execute_input": "2023-11-15T17:21:13.197142Z",
     "iopub.status.busy": "2023-11-15T17:21:13.196871Z",
     "iopub.status.idle": "2023-11-15T17:21:14.953078Z",
     "shell.execute_reply": "2023-11-15T17:21:14.952290Z"
    },
    "jupyter": {
     "outputs_hidden": false
    },
    "papermill": {
     "duration": 1.769515,
     "end_time": "2023-11-15T17:21:14.955419",
     "exception": false,
     "start_time": "2023-11-15T17:21:13.185904",
     "status": "completed"
    },
    "tags": []
   },
   "outputs": [],
   "source": [
    "from sklearn.model_selection import train_test_split\n",
    "X_train, X_test, y_train, y_test = train_test_split(X, y, test_size=0.33, random_state=42)"
   ]
  },
  {
   "cell_type": "code",
   "execution_count": 18,
   "id": "21417a71",
   "metadata": {
    "ExecuteTime": {
     "end_time": "2023-11-11T19:50:09.126429600Z",
     "start_time": "2023-11-11T19:50:08.947136300Z"
    },
    "collapsed": false,
    "execution": {
     "iopub.execute_input": "2023-11-15T17:21:14.977358Z",
     "iopub.status.busy": "2023-11-15T17:21:14.977048Z",
     "iopub.status.idle": "2023-11-15T17:21:15.076434Z",
     "shell.execute_reply": "2023-11-15T17:21:15.075660Z"
    },
    "jupyter": {
     "outputs_hidden": false
    },
    "papermill": {
     "duration": 0.112793,
     "end_time": "2023-11-15T17:21:15.078652",
     "exception": false,
     "start_time": "2023-11-15T17:21:14.965859",
     "status": "completed"
    },
    "tags": []
   },
   "outputs": [],
   "source": [
    "reg = tf.keras.regularizers.L2(0.0001)"
   ]
  },
  {
   "cell_type": "code",
   "execution_count": 19,
   "id": "99e38f98",
   "metadata": {
    "ExecuteTime": {
     "end_time": "2023-11-11T19:50:09.250672300Z",
     "start_time": "2023-11-11T19:50:09.133431300Z"
    },
    "collapsed": false,
    "execution": {
     "iopub.execute_input": "2023-11-15T17:21:15.100542Z",
     "iopub.status.busy": "2023-11-15T17:21:15.100247Z",
     "iopub.status.idle": "2023-11-15T17:21:18.081210Z",
     "shell.execute_reply": "2023-11-15T17:21:18.080448Z"
    },
    "jupyter": {
     "outputs_hidden": false
    },
    "papermill": {
     "duration": 2.994208,
     "end_time": "2023-11-15T17:21:18.083477",
     "exception": false,
     "start_time": "2023-11-15T17:21:15.089269",
     "status": "completed"
    },
    "tags": []
   },
   "outputs": [],
   "source": [
    "model = tf.keras.models.Sequential()\n",
    "model.add(tf.keras.layers.Dense(units=784,activation=\"relu\",input_shape=(784,),name=\"input_layer\",kernel_regularizer=reg))\n",
    "model.add(tf.keras.layers.Dropout(0.22))\n",
    "model.add(tf.keras.layers.Dense(units=784,activation=\"relu\",name=\"hidden_layer0\",kernel_regularizer=reg))\n",
    "model.add(tf.keras.layers.Dropout(0.5))\n",
    "model.add(tf.keras.layers.Dense(units=784,activation=\"relu\",name=\"hidden_layer1\",kernel_regularizer=reg))\n",
    "model.add(tf.keras.layers.Dropout(0.22))\n",
    "model.add(tf.keras.layers.Dense(units=94,activation=\"softmax\",name=\"output_layer\",kernel_regularizer=reg))\n"
   ]
  },
  {
   "cell_type": "code",
   "execution_count": 20,
   "id": "551f371d",
   "metadata": {
    "ExecuteTime": {
     "end_time": "2023-11-11T19:50:09.334554400Z",
     "start_time": "2023-11-11T19:50:09.252672400Z"
    },
    "collapsed": false,
    "execution": {
     "iopub.execute_input": "2023-11-15T17:21:18.105883Z",
     "iopub.status.busy": "2023-11-15T17:21:18.105182Z",
     "iopub.status.idle": "2023-11-15T17:21:18.130316Z",
     "shell.execute_reply": "2023-11-15T17:21:18.129447Z"
    },
    "jupyter": {
     "outputs_hidden": false
    },
    "papermill": {
     "duration": 0.044221,
     "end_time": "2023-11-15T17:21:18.138286",
     "exception": false,
     "start_time": "2023-11-15T17:21:18.094065",
     "status": "completed"
    },
    "tags": []
   },
   "outputs": [
    {
     "name": "stdout",
     "output_type": "stream",
     "text": [
      "Model: \"sequential\"\n",
      "_________________________________________________________________\n",
      " Layer (type)                Output Shape              Param #   \n",
      "=================================================================\n",
      " input_layer (Dense)         (None, 784)               615440    \n",
      "                                                                 \n",
      " dropout (Dropout)           (None, 784)               0         \n",
      "                                                                 \n",
      " hidden_layer0 (Dense)       (None, 784)               615440    \n",
      "                                                                 \n",
      " dropout_1 (Dropout)         (None, 784)               0         \n",
      "                                                                 \n",
      " hidden_layer1 (Dense)       (None, 784)               615440    \n",
      "                                                                 \n",
      " dropout_2 (Dropout)         (None, 784)               0         \n",
      "                                                                 \n",
      " output_layer (Dense)        (None, 94)                73790     \n",
      "                                                                 \n",
      "=================================================================\n",
      "Total params: 1920110 (7.32 MB)\n",
      "Trainable params: 1920110 (7.32 MB)\n",
      "Non-trainable params: 0 (0.00 Byte)\n",
      "_________________________________________________________________\n"
     ]
    }
   ],
   "source": [
    "model.summary()"
   ]
  },
  {
   "cell_type": "code",
   "execution_count": 21,
   "id": "d11e09da",
   "metadata": {
    "ExecuteTime": {
     "end_time": "2023-11-11T19:50:09.337554500Z",
     "start_time": "2023-11-11T19:50:09.282737200Z"
    },
    "collapsed": false,
    "execution": {
     "iopub.execute_input": "2023-11-15T17:21:18.163153Z",
     "iopub.status.busy": "2023-11-15T17:21:18.162858Z",
     "iopub.status.idle": "2023-11-15T17:21:18.182308Z",
     "shell.execute_reply": "2023-11-15T17:21:18.181465Z"
    },
    "jupyter": {
     "outputs_hidden": false
    },
    "papermill": {
     "duration": 0.033993,
     "end_time": "2023-11-15T17:21:18.184263",
     "exception": false,
     "start_time": "2023-11-15T17:21:18.150270",
     "status": "completed"
    },
    "tags": []
   },
   "outputs": [],
   "source": [
    "opt = tf.keras.optimizers.Adam(0.0001)\n",
    "los = tf.keras.losses.CategoricalCrossentropy()\n",
    "met = tf.keras.metrics.CategoricalAccuracy()\n",
    "model.compile(optimizer=opt,loss=los,metrics=met)"
   ]
  },
  {
   "cell_type": "code",
   "execution_count": 22,
   "id": "414ae9f8",
   "metadata": {
    "ExecuteTime": {
     "end_time": "2023-11-11T20:08:43.118936Z",
     "start_time": "2023-11-11T20:04:41.377508800Z"
    },
    "collapsed": false,
    "execution": {
     "iopub.execute_input": "2023-11-15T17:21:18.209590Z",
     "iopub.status.busy": "2023-11-15T17:21:18.208950Z",
     "iopub.status.idle": "2023-11-15T17:21:58.634657Z",
     "shell.execute_reply": "2023-11-15T17:21:58.633642Z"
    },
    "jupyter": {
     "outputs_hidden": false
    },
    "papermill": {
     "duration": 40.44061,
     "end_time": "2023-11-15T17:21:58.636969",
     "exception": false,
     "start_time": "2023-11-15T17:21:18.196359",
     "status": "completed"
    },
    "tags": []
   },
   "outputs": [
    {
     "name": "stdout",
     "output_type": "stream",
     "text": [
      "Epoch 1/15\n",
      "490/490 - 7s - loss: 14.2292 - categorical_accuracy: 0.2338 - val_loss: 1.8511 - val_categorical_accuracy: 0.6574 - 7s/epoch - 15ms/step\n",
      "Epoch 2/15\n",
      "490/490 - 2s - loss: 3.1783 - categorical_accuracy: 0.4415 - val_loss: 1.3809 - val_categorical_accuracy: 0.7400 - 2s/epoch - 4ms/step\n",
      "Epoch 3/15\n",
      "490/490 - 2s - loss: 2.2891 - categorical_accuracy: 0.5630 - val_loss: 1.1743 - val_categorical_accuracy: 0.7789 - 2s/epoch - 4ms/step\n",
      "Epoch 4/15\n",
      "490/490 - 2s - loss: 1.8682 - categorical_accuracy: 0.6287 - val_loss: 1.0399 - val_categorical_accuracy: 0.8036 - 2s/epoch - 5ms/step\n",
      "Epoch 5/15\n",
      "490/490 - 2s - loss: 1.6131 - categorical_accuracy: 0.6718 - val_loss: 0.9524 - val_categorical_accuracy: 0.8184 - 2s/epoch - 5ms/step\n",
      "Epoch 6/15\n",
      "490/490 - 2s - loss: 1.4310 - categorical_accuracy: 0.7029 - val_loss: 0.8889 - val_categorical_accuracy: 0.8293 - 2s/epoch - 4ms/step\n",
      "Epoch 7/15\n",
      "490/490 - 2s - loss: 1.3014 - categorical_accuracy: 0.7279 - val_loss: 0.8460 - val_categorical_accuracy: 0.8374 - 2s/epoch - 4ms/step\n",
      "Epoch 8/15\n",
      "490/490 - 2s - loss: 1.1925 - categorical_accuracy: 0.7460 - val_loss: 0.8102 - val_categorical_accuracy: 0.8451 - 2s/epoch - 4ms/step\n",
      "Epoch 9/15\n",
      "490/490 - 2s - loss: 1.1049 - categorical_accuracy: 0.7644 - val_loss: 0.7783 - val_categorical_accuracy: 0.8498 - 2s/epoch - 4ms/step\n",
      "Epoch 10/15\n",
      "490/490 - 2s - loss: 1.0410 - categorical_accuracy: 0.7771 - val_loss: 0.7501 - val_categorical_accuracy: 0.8550 - 2s/epoch - 5ms/step\n",
      "Epoch 11/15\n",
      "490/490 - 2s - loss: 0.9733 - categorical_accuracy: 0.7887 - val_loss: 0.7221 - val_categorical_accuracy: 0.8600 - 2s/epoch - 4ms/step\n",
      "Epoch 12/15\n",
      "490/490 - 2s - loss: 0.9197 - categorical_accuracy: 0.8001 - val_loss: 0.6999 - val_categorical_accuracy: 0.8643 - 2s/epoch - 4ms/step\n",
      "Epoch 13/15\n",
      "490/490 - 2s - loss: 0.8843 - categorical_accuracy: 0.8065 - val_loss: 0.6825 - val_categorical_accuracy: 0.8672 - 2s/epoch - 4ms/step\n",
      "Epoch 14/15\n",
      "490/490 - 2s - loss: 0.8422 - categorical_accuracy: 0.8160 - val_loss: 0.6678 - val_categorical_accuracy: 0.8691 - 2s/epoch - 4ms/step\n",
      "Epoch 15/15\n",
      "490/490 - 2s - loss: 0.8085 - categorical_accuracy: 0.8221 - val_loss: 0.6522 - val_categorical_accuracy: 0.8710 - 2s/epoch - 4ms/step\n"
     ]
    }
   ],
   "source": [
    "history= model.fit(X_train,y_train,epochs=15,batch_size=300,validation_split=0.2,verbose=2)"
   ]
  },
  {
   "cell_type": "code",
   "execution_count": 23,
   "id": "eb2daf3f",
   "metadata": {
    "execution": {
     "iopub.execute_input": "2023-11-15T17:21:58.667856Z",
     "iopub.status.busy": "2023-11-15T17:21:58.667519Z",
     "iopub.status.idle": "2023-11-15T17:21:58.672723Z",
     "shell.execute_reply": "2023-11-15T17:21:58.671793Z"
    },
    "papermill": {
     "duration": 0.022671,
     "end_time": "2023-11-15T17:21:58.674891",
     "exception": false,
     "start_time": "2023-11-15T17:21:58.652220",
     "status": "completed"
    },
    "tags": []
   },
   "outputs": [],
   "source": [
    "import json\n",
    "\n",
    "\n",
    "with open('re100.json', 'w') as f:\n",
    "    json.dump(history.history,f)"
   ]
  },
  {
   "cell_type": "code",
   "execution_count": 24,
   "id": "633e66fc",
   "metadata": {
    "ExecuteTime": {
     "end_time": "2023-11-11T20:09:22.044509100Z",
     "start_time": "2023-11-11T20:09:21.584049200Z"
    },
    "collapsed": false,
    "execution": {
     "iopub.execute_input": "2023-11-15T17:21:58.752611Z",
     "iopub.status.busy": "2023-11-15T17:21:58.752252Z",
     "iopub.status.idle": "2023-11-15T17:21:58.952058Z",
     "shell.execute_reply": "2023-11-15T17:21:58.951154Z"
    },
    "jupyter": {
     "outputs_hidden": false
    },
    "papermill": {
     "duration": 0.217552,
     "end_time": "2023-11-15T17:21:58.954180",
     "exception": false,
     "start_time": "2023-11-15T17:21:58.736628",
     "status": "completed"
    },
    "tags": []
   },
   "outputs": [
    {
     "data": {
      "image/png": "[encoded data removed]",
      "text/plain": [
       "<Figure size 640x480 with 1 Axes>"
      ]
     },
     "metadata": {},
     "output_type": "display_data"
    }
   ],
   "source": [
    "plt.plot(history.history['loss'],label = \"loss\")\n",
    "plt.plot(history.history['val_loss'],label = \"val_loss\")\n",
    "plt.legend()\n",
    "plt.show()"
   ]
  }
 ],
 "metadata": {
  "kaggle": {
   "accelerator": "none",
   "dataSources": [
    {
     "datasetId": 1564532,
     "sourceId": 2830968,
     "sourceType": "datasetVersion"
    }
   ],
   "dockerImageVersionId": 30579,
   "isGpuEnabled": false,
   "isInternetEnabled": true,
   "language": "python",
   "sourceType": "notebook"
  },
  "kernelspec": {
   "display_name": "Python 3",
   "language": "python",
   "name": "python3"
  },
  "language_info": {
   "codemirror_mode": {
    "name": "ipython",
    "version": 3
   },
   "file_extension": ".py",
   "mimetype": "text/x-python",
   "name": "python",
   "nbconvert_exporter": "python",
   "pygments_lexer": "ipython3",
   "version": "3.10.12"
  },
  "papermill": {
   "default_parameters": {},
   "duration": 103.543458,
   "end_time": "2023-11-15T17:22:01.925290",
   "environment_variables": {},
   "exception": null,
   "input_path": "__notebook__.ipynb",
   "output_path": "__notebook__.ipynb",
   "parameters": {},
   "start_time": "2023-11-15T17:20:18.381832",
   "version": "2.4.0"
  }
 },
 "nbformat": 4,
 "nbformat_minor": 5
}
